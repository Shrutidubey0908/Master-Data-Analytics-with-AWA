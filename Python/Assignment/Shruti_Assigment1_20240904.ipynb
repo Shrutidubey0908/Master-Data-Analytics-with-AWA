{
 "cells": [
  {
   "cell_type": "markdown",
   "id": "cd14b99b-ec2f-4deb-8e80-4f72e17cfd3a",
   "metadata": {},
   "source": [
    "### 1) Understanding Variables\r\n",
    "a. Define a variable in Python. Provide an example of how to create a variable that\r\n",
    "stores your name.\r\n",
    "b. What is the difference between a variable and a constant? Can we have constants in\r\n",
    "Python?"
   ]
  },
  {
   "cell_type": "markdown",
   "id": "2c674977-1272-4b97-bada-87b818fea7fa",
   "metadata": {},
   "source": [
    "a) Variable: It is something that stores value or in other words it is a reserved memory location it stores any given data values.\n",
    "Also, there is no need for declaring a variable if we are working in python."
   ]
  },
  {
   "cell_type": "code",
   "execution_count": 1,
   "id": "86381228-36ac-4469-b88a-fa35e7ee7318",
   "metadata": {},
   "outputs": [
    {
     "data": {
      "text/plain": [
       "'Shruti'"
      ]
     },
     "execution_count": 1,
     "metadata": {},
     "output_type": "execute_result"
    }
   ],
   "source": [
    "#Example:\n",
    "a=\"Shruti\"\n",
    "a"
   ]
  },
  {
   "cell_type": "markdown",
   "id": "af39b094-25e5-4374-a90e-539ee8dbd573",
   "metadata": {},
   "source": [
    "b)In any programming language variable stores any data in memory location and it can be altered accordingly, whereas constant as name itself cannot be changed if it stores any value.\n",
    "\n",
    "In Python we cannot directly create constant but we can use constant by using a library called pconst."
   ]
  },
  {
   "cell_type": "code",
   "execution_count": 4,
   "id": "6425a49d-6070-4ced-b172-c9ba99f5905e",
   "metadata": {},
   "outputs": [
    {
     "name": "stdout",
     "output_type": "stream",
     "text": [
      "Requirement already satisfied: pconst in c:\\users\\vatsa\\anaconda3\\lib\\site-packages (1.1.2)\n",
      "Note: you may need to restart the kernel to use updated packages.\n"
     ]
    }
   ],
   "source": [
    "pip install pconst"
   ]
  },
  {
   "cell_type": "code",
   "execution_count": 5,
   "id": "8a5d39ec-1cbe-472a-8404-8ed1d227bbff",
   "metadata": {},
   "outputs": [
    {
     "name": "stdout",
     "output_type": "stream",
     "text": [
      "Shruti\n",
      "Shruti Dubey\n"
     ]
    }
   ],
   "source": [
    "from pconst import const \n",
    " \n",
    "const.NAME1 = \"Shruti\"   \n",
    "const.FULL_NAME1 = 'Shruti Dubey'\n",
    "\n",
    "print(const.NAME1) \n",
    "print(const.FULL_NAME1)"
   ]
  },
  {
   "cell_type": "markdown",
   "id": "65706c7f-65b5-4ae1-9955-3c5bcfb2f832",
   "metadata": {},
   "source": [
    "### 2) Working with Different Data Types\n",
    "\r\n",
    "a. Create variables of the following types in Python\n",
    "  1. Integer\n",
    " 2. Float\n",
    " 3. String\n",
    " 4. Boolen\n",
    "    ."
   ]
  },
  {
   "cell_type": "markdown",
   "id": "e88a477b-f1c6-46cc-9ca9-3517ad0553d4",
   "metadata": {},
   "source": [
    "b)Write a Python script to display the type of each variable you created.\r"
   ]
  },
  {
   "cell_type": "code",
   "execution_count": 6,
   "id": "418e793b-f420-4f29-9f91-1b0d7f75109e",
   "metadata": {},
   "outputs": [],
   "source": [
    "\n",
    "Intgr=9\n",
    "\n",
    "Flt=9.6\n",
    "Stg=\"Shruti\"\n",
    "Bo=True\n",
    "\n",
    "#int, float, string and boolean are variable"
   ]
  },
  {
   "cell_type": "code",
   "execution_count": 7,
   "id": "58d4ba5c-e498-4ac1-9a81-dbb506858d96",
   "metadata": {},
   "outputs": [
    {
     "data": {
      "text/plain": [
       "int"
      ]
     },
     "execution_count": 7,
     "metadata": {},
     "output_type": "execute_result"
    }
   ],
   "source": [
    "#Integer\n",
    "type(Intgr)"
   ]
  },
  {
   "cell_type": "code",
   "execution_count": 12,
   "id": "acc33c04-8337-470f-9a20-0ebb2b69f9d1",
   "metadata": {},
   "outputs": [
    {
     "data": {
      "text/plain": [
       "float"
      ]
     },
     "execution_count": 12,
     "metadata": {},
     "output_type": "execute_result"
    }
   ],
   "source": [
    "#float\n",
    "type(Flt)"
   ]
  },
  {
   "cell_type": "code",
   "execution_count": 14,
   "id": "0bef5a2b-41e9-4ad6-bbe0-83cabf68cb95",
   "metadata": {},
   "outputs": [
    {
     "data": {
      "text/plain": [
       "str"
      ]
     },
     "execution_count": 14,
     "metadata": {},
     "output_type": "execute_result"
    }
   ],
   "source": [
    "#string\n",
    "type(Stg)"
   ]
  },
  {
   "cell_type": "code",
   "execution_count": 16,
   "id": "02d9f6a8-a62a-41cb-8c75-d1d5bdff4448",
   "metadata": {},
   "outputs": [
    {
     "data": {
      "text/plain": [
       "bool"
      ]
     },
     "execution_count": 16,
     "metadata": {},
     "output_type": "execute_result"
    }
   ],
   "source": [
    "#Boolean\n",
    "type(Bo)"
   ]
  },
  {
   "cell_type": "markdown",
   "id": "61359a94-eeaf-49fb-8a8e-2be493e9fda7",
   "metadata": {},
   "source": [
    "### 3 Arithmetic Operators\n",
    "\n",
    "a. Explain the following arithmetic operators with examples:\n",
    "1. Addition (`+`)\n",
    "2. Subtraction (`-`)\n",
    "3. Multiplication (``)\n",
    "4. Division (`/`)\n",
    "5. Floor Division (`//`)\n",
    "6. Modulus (`%`)\n",
    "7. Exponentiation (``)"
   ]
  },
  {
   "cell_type": "markdown",
   "id": "ee534d66-a7ea-4871-a482-5dd5a0b82609",
   "metadata": {},
   "source": [
    "b)  Write a Python script to calculate the area of a rectangle using variables `length`\r\n",
    "and `width` with values 5 and 10, respectively. Use the multiplication operator."
   ]
  },
  {
   "cell_type": "code",
   "execution_count": 18,
   "id": "923b5e5b-fcf9-46a0-b414-d84eb3d727cc",
   "metadata": {},
   "outputs": [
    {
     "data": {
      "text/plain": [
       "8"
      ]
     },
     "execution_count": 18,
     "metadata": {},
     "output_type": "execute_result"
    }
   ],
   "source": [
    "# Addition\n",
    "# '+' operator is used for addition\n",
    "a=5+3\n",
    "a"
   ]
  },
  {
   "cell_type": "code",
   "execution_count": 20,
   "id": "4fbadc6d-5121-4151-9c00-04404f66eb92",
   "metadata": {},
   "outputs": [
    {
     "data": {
      "text/plain": [
       "1"
      ]
     },
     "execution_count": 20,
     "metadata": {},
     "output_type": "execute_result"
    }
   ],
   "source": [
    "#Subtraction\n",
    "#'-' operator is used for subtraction\n",
    "b=5-4\n",
    "b"
   ]
  },
  {
   "cell_type": "code",
   "execution_count": 22,
   "id": "8cc928fe-81c5-4810-aa8f-55264fd83b46",
   "metadata": {},
   "outputs": [
    {
     "data": {
      "text/plain": [
       "12"
      ]
     },
     "execution_count": 22,
     "metadata": {},
     "output_type": "execute_result"
    }
   ],
   "source": [
    "#Multiplication\n",
    "#'*' operator is used for multiplication\n",
    "c=4*3\n",
    "c"
   ]
  },
  {
   "cell_type": "code",
   "execution_count": 24,
   "id": "132052aa-5823-46a9-bc5b-7ecf2c3dae93",
   "metadata": {},
   "outputs": [
    {
     "data": {
      "text/plain": [
       "2.0"
      ]
     },
     "execution_count": 24,
     "metadata": {},
     "output_type": "execute_result"
    }
   ],
   "source": [
    "#Division\n",
    "#'/' operator is used for division\n",
    "d=4/2\n",
    "d"
   ]
  },
  {
   "cell_type": "code",
   "execution_count": 26,
   "id": "0d355c15-9c12-4fbc-ba98-5adfaae7faf2",
   "metadata": {},
   "outputs": [
    {
     "data": {
      "text/plain": [
       "2"
      ]
     },
     "execution_count": 26,
     "metadata": {},
     "output_type": "execute_result"
    }
   ],
   "source": [
    "#Floor Division'//' It divides two numbers and rounds the result down to the nearest whole number.\n",
    "e=6//3\n",
    "e"
   ]
  },
  {
   "cell_type": "code",
   "execution_count": 28,
   "id": "3a92cee0-b4c7-4629-8fe0-02da102e1e27",
   "metadata": {},
   "outputs": [
    {
     "data": {
      "text/plain": [
       "0"
      ]
     },
     "execution_count": 28,
     "metadata": {},
     "output_type": "execute_result"
    }
   ],
   "source": [
    "#Modulus (`%`) is the remainder\n",
    "\n",
    "f=9%3\n",
    "f"
   ]
  },
  {
   "cell_type": "code",
   "execution_count": 30,
   "id": "47519884-1551-4601-b021-2129118c37b1",
   "metadata": {},
   "outputs": [
    {
     "data": {
      "text/plain": [
       "1"
      ]
     },
     "execution_count": 30,
     "metadata": {},
     "output_type": "execute_result"
    }
   ],
   "source": [
    "g=10%3\n",
    "g"
   ]
  },
  {
   "cell_type": "code",
   "execution_count": 32,
   "id": "51546392-48c9-450b-b6a4-c2a84fbe341c",
   "metadata": {},
   "outputs": [
    {
     "data": {
      "text/plain": [
       "8"
      ]
     },
     "execution_count": 32,
     "metadata": {},
     "output_type": "execute_result"
    }
   ],
   "source": [
    "#Exponentiation is ** \n",
    "h=2**3\n",
    "h\n"
   ]
  },
  {
   "cell_type": "code",
   "execution_count": 34,
   "id": "9ee67b81-6da6-48d1-90a8-e479754157d1",
   "metadata": {},
   "outputs": [
    {
     "name": "stdout",
     "output_type": "stream",
     "text": [
      "Area of the rectangle : 50\n"
     ]
    }
   ],
   "source": [
    "# b) Area of the rectangle using length=5 breadth=10 \n",
    "\n",
    "length=5\n",
    "breadth=10\n",
    "area=length*breadth\n",
    "print(\"Area of the rectangle :\",area)"
   ]
  },
  {
   "cell_type": "markdown",
   "id": "370c39d5-af28-4e2c-9851-d5f74658cccb",
   "metadata": {},
   "source": [
    "### 4 Comparison and Logical Operators\r\n",
    "a. Explain the following comparison operators with examples:\r\n",
    "1. Equal to (`==`)\r\n",
    "2. Not equal to (`!=`)\r\n",
    "3. Greater than (`>`)\r\n",
    "4. Less than (`<`)\r\n",
    "5. Greater than or equal to (`>=`)\r\n",
    "6. Less than or equal to (`<=`)"
   ]
  },
  {
   "cell_type": "markdown",
   "id": "6449dfbb-e074-4c02-adef-f431115aa856",
   "metadata": {},
   "source": [
    "b. Using logical operators (`and`, `or`, `not`), write a Python script that checks if a\r\n",
    "number is positive and even.\r",
    " (`<=`)"
   ]
  },
  {
   "cell_type": "code",
   "execution_count": 36,
   "id": "e991616a-1577-428d-b95c-255d2e171f82",
   "metadata": {},
   "outputs": [
    {
     "name": "stdout",
     "output_type": "stream",
     "text": [
      "you can buy the phone\n"
     ]
    }
   ],
   "source": [
    "# == is comparison operator is used to compare\n",
    "\n",
    "phone_price=800\n",
    "budget=800\n",
    "\n",
    "if budget == phone_price:\n",
    "    print(\"you can buy the phone\")\n",
    "else:\n",
    "    print(\"You cannot buy the phone\")\n"
   ]
  },
  {
   "cell_type": "code",
   "execution_count": 38,
   "id": "a11bbd04-de41-41f7-9cb7-acbfe93fd0d3",
   "metadata": {},
   "outputs": [
    {
     "data": {
      "text/plain": [
       "True"
      ]
     },
     "execution_count": 38,
     "metadata": {},
     "output_type": "execute_result"
    }
   ],
   "source": [
    "# != is not equal \n",
    "\n",
    "a1=5\n",
    "b1=9\n",
    "a1!=b1\n",
    "\n",
    "# It returns True value as a1 is not equal b1."
   ]
  },
  {
   "cell_type": "code",
   "execution_count": 40,
   "id": "f0a408b6-7c87-423c-9897-8ed898c8e5f1",
   "metadata": {},
   "outputs": [
    {
     "data": {
      "text/plain": [
       "False"
      ]
     },
     "execution_count": 40,
     "metadata": {},
     "output_type": "execute_result"
    }
   ],
   "source": [
    "# >\n",
    "a2=10\n",
    "b2=20\n",
    "a2>b2"
   ]
  },
  {
   "cell_type": "code",
   "execution_count": 42,
   "id": "76726a52-b324-46f0-9c15-46ff93703cff",
   "metadata": {},
   "outputs": [
    {
     "data": {
      "text/plain": [
       "True"
      ]
     },
     "execution_count": 42,
     "metadata": {},
     "output_type": "execute_result"
    }
   ],
   "source": [
    "b2>a2\n",
    "#b2 is greateter than a2"
   ]
  },
  {
   "cell_type": "code",
   "execution_count": 44,
   "id": "618e30ed-7ee3-4c8a-b9bc-5316cf295a68",
   "metadata": {},
   "outputs": [
    {
     "data": {
      "text/plain": [
       "True"
      ]
     },
     "execution_count": 44,
     "metadata": {},
     "output_type": "execute_result"
    }
   ],
   "source": [
    "# <\n",
    "a2<b2"
   ]
  },
  {
   "cell_type": "code",
   "execution_count": 46,
   "id": "a435df50-fc01-496d-881a-50b75c0b4dc3",
   "metadata": {},
   "outputs": [
    {
     "data": {
      "text/plain": [
       "True"
      ]
     },
     "execution_count": 46,
     "metadata": {},
     "output_type": "execute_result"
    }
   ],
   "source": [
    "#>=\n",
    "\n",
    "a3=14\n",
    "b3=19\n",
    "b3>=a3"
   ]
  },
  {
   "cell_type": "code",
   "execution_count": 48,
   "id": "2c5176f0-915b-4c5f-a127-3e6dad96366c",
   "metadata": {},
   "outputs": [
    {
     "data": {
      "text/plain": [
       "True"
      ]
     },
     "execution_count": 48,
     "metadata": {},
     "output_type": "execute_result"
    }
   ],
   "source": [
    "# <=\n",
    "a3<=b3"
   ]
  },
  {
   "cell_type": "code",
   "execution_count": 11,
   "id": "6f5b09ea-a295-4eb8-b9c9-48866f64ab80",
   "metadata": {},
   "outputs": [
    {
     "name": "stdout",
     "output_type": "stream",
     "text": [
      "The Number is not positive and even\n"
     ]
    }
   ],
   "source": [
    "#b # Using logical operators (`and`, `or`, `not`), write a Python script that checks if a\n",
    "#number is positive and even.\n",
    "\n",
    "num=45\n",
    "\n",
    "if num>0 and num%2==0:\n",
    "    print(\"The Number is positive and even\")\n",
    "else:\n",
    "    print(\"The Number is not positive and even\")"
   ]
  },
  {
   "cell_type": "code",
   "execution_count": 13,
   "id": "6ac00a33-a1a9-431f-82d4-d67e2eda54c7",
   "metadata": {},
   "outputs": [
    {
     "name": "stdout",
     "output_type": "stream",
     "text": [
      "The Number is positive or even\n"
     ]
    }
   ],
   "source": [
    "#Example of OR\n",
    "\n",
    "if num>0 or num%2==0:\n",
    "    print(\"The Number is positive or even\")\n",
    "else:\n",
    "    print(\"The Number is nor positive or even\")"
   ]
  },
  {
   "cell_type": "code",
   "execution_count": 17,
   "id": "240f2b59-fa3f-477b-8453-ee43f1209c70",
   "metadata": {},
   "outputs": [
    {
     "name": "stdout",
     "output_type": "stream",
     "text": [
      "The number not positive and even\n"
     ]
    }
   ],
   "source": [
    "#Example of Not\n",
    "\n",
    "if not (num <= 0 or num % 2 != 0):\n",
    "    print(\"The number positive and even\")\n",
    "else:\n",
    "    print(\"The number not positive and even\")\n"
   ]
  },
  {
   "cell_type": "markdown",
   "id": "d25f4b85-8076-467c-a55a-053a6125d80c",
   "metadata": {},
   "source": [
    "### 5)Type Casting in Python\r\n",
    "a. What is type casting? Explain the difference between implicit and explicit type\r\n",
    "casting with examples.\r\n",
    "b. Write a Python script that:\r\n",
    "1. Converts a float to an integer.\r\n",
    "2. Converts an integer to a string.\r\n",
    "3. Converts a string to a \n",
    "   float."
   ]
  },
  {
   "cell_type": "markdown",
   "id": "1903ada0-a69e-4f1a-b2d7-5ec16c1516bd",
   "metadata": {},
   "source": [
    "#### Type Casting:\n",
    "Converting a variable from one data type to another\n",
    "\n",
    "\n",
    "Implicit type casting is when python itself automatically converts any input and results to its data type \n",
    "\n",
    "Explicit type casting is when we as a programmer converts one data type to another\n"
   ]
  },
  {
   "cell_type": "code",
   "execution_count": 54,
   "id": "bdcbaf63-00f6-4f83-979c-d75adc90864a",
   "metadata": {},
   "outputs": [
    {
     "data": {
      "text/plain": [
       "int"
      ]
     },
     "execution_count": 54,
     "metadata": {},
     "output_type": "execute_result"
    }
   ],
   "source": [
    "#Implicit\n",
    "Impli=6\n",
    "type(Impli)\n",
    "\n",
    "#here we automatically get the type of our variable as integer"
   ]
  },
  {
   "cell_type": "code",
   "execution_count": 56,
   "id": "f4ba369a-be29-4595-a1a1-aa3a4736b607",
   "metadata": {},
   "outputs": [
    {
     "data": {
      "text/plain": [
       "'Shruti1994'"
      ]
     },
     "execution_count": 56,
     "metadata": {},
     "output_type": "execute_result"
    }
   ],
   "source": [
    "# Explicit\n",
    "year=1994\n",
    "Expli= 'Shruti'+str(year)\n",
    "Expli\n",
    "\n",
    "#here we are converrting year which is a integer to str"
   ]
  },
  {
   "cell_type": "code",
   "execution_count": 58,
   "id": "c3437af7-dc91-4cf0-bd24-5331c5c8dd04",
   "metadata": {},
   "outputs": [
    {
     "name": "stdout",
     "output_type": "stream",
     "text": [
      "Result 9\n"
     ]
    }
   ],
   "source": [
    "#b Converts a float to an integer.\n",
    "L1=5.4\n",
    "L2=4\n",
    "print(\"Result\",int(L1)+L2)"
   ]
  },
  {
   "cell_type": "code",
   "execution_count": 60,
   "id": "028bad29-5250-4aad-b3b4-4fb863ad756b",
   "metadata": {},
   "outputs": [
    {
     "name": "stdout",
     "output_type": "stream",
     "text": [
      "Result 3\n"
     ]
    }
   ],
   "source": [
    "#Converts an integer to a string\n",
    "L3=3\n",
    "print(\"Result\",str(L3))"
   ]
  },
  {
   "cell_type": "code",
   "execution_count": 5,
   "id": "8786ef5c-b17f-4caa-bf86-4ed1ad41788a",
   "metadata": {},
   "outputs": [
    {
     "name": "stdout",
     "output_type": "stream",
     "text": [
      "Result 8.6\n"
     ]
    },
    {
     "data": {
      "text/plain": [
       "str"
      ]
     },
     "execution_count": 5,
     "metadata": {},
     "output_type": "execute_result"
    }
   ],
   "source": [
    "#Converts a string to a float.\n",
    "L4=\"3\"\n",
    "L5=5.6\n",
    "print(\"Result\",float(L4)+L5)\n",
    "type(L4)\n",
    "# we cannot convert string to float"
   ]
  },
  {
   "cell_type": "code",
   "execution_count": 7,
   "id": "a6cddf35-3c2e-4467-addc-903fbd2ccb92",
   "metadata": {},
   "outputs": [
    {
     "ename": "ValueError",
     "evalue": "could not convert string to float: 'abc'",
     "output_type": "error",
     "traceback": [
      "\u001b[1;31m---------------------------------------------------------------------------\u001b[0m",
      "\u001b[1;31mValueError\u001b[0m                                Traceback (most recent call last)",
      "Cell \u001b[1;32mIn[7], line 3\u001b[0m\n\u001b[0;32m      1\u001b[0m L6\u001b[38;5;241m=\u001b[39m\u001b[38;5;124m\"\u001b[39m\u001b[38;5;124mabc\u001b[39m\u001b[38;5;124m\"\u001b[39m\n\u001b[0;32m      2\u001b[0m L7\u001b[38;5;241m=\u001b[39m\u001b[38;5;241m4.5\u001b[39m\n\u001b[1;32m----> 3\u001b[0m \u001b[38;5;28mprint\u001b[39m(\u001b[38;5;124m\"\u001b[39m\u001b[38;5;124mResult\u001b[39m\u001b[38;5;124m\"\u001b[39m,\u001b[38;5;28mfloat\u001b[39m(L6)\u001b[38;5;241m+\u001b[39mL7)\n",
      "\u001b[1;31mValueError\u001b[0m: could not convert string to float: 'abc'"
     ]
    }
   ],
   "source": [
    "L6=\"abc\"\n",
    "L7=4.5\n",
    "print(\"Result\",float(L6)+L7)\n",
    "\n",
    "# can only convert strings that represent valid numbers like 3.14, 6 into floating-point numbers.\n",
    "# When you try to convert a string like \"abc\" that doesn't represent a number, Python doesn't know how to handle it, leading to a ValueError."
   ]
  },
  {
   "cell_type": "markdown",
   "id": "aa9460d8-b2bc-4d68-9fb9-ce3fa70efb95",
   "metadata": {},
   "source": [
    "### 6) Write a Python script that asks the user to input two numbers and then:\r\n",
    "1. Adds the two numbers and prints the result.\r\n",
    "2. Subtracts the second number from the first and prints the result.\r\n",
    "3. Multiplies the two numbers and prints the result.\r\n",
    "4. Divides the first number by the second and prints the result (handle division by zero).\r\n",
    "5. Converts the sum of the numbers to a string and prints the type of the result"
   ]
  },
  {
   "cell_type": "code",
   "execution_count": 10,
   "id": "984076d7-39ec-4264-8961-2c1175647f82",
   "metadata": {},
   "outputs": [
    {
     "name": "stdin",
     "output_type": "stream",
     "text": [
      "Enter 1st number 2\n",
      "Enter 2nd number 0\n"
     ]
    },
    {
     "name": "stdout",
     "output_type": "stream",
     "text": [
      "Addtion : 2\n",
      "Subtraction : -2\n",
      "Multiplication : 0\n",
      "Result is undedefined for Division\n",
      "Conversion to string <class 'str'>\n"
     ]
    }
   ],
   "source": [
    "num1=int(input(\"Enter 1st number\"))\n",
    "num2=int(input(\"Enter 2nd number\"))\n",
    "print(\"Addtion :\",num1+num2)  \n",
    "print(\"Subtraction :\",num2-num1)\n",
    "print(\"Multiplication :\",num1*num2)\n",
    "if (num2==0):\n",
    "    print(\"Result is undedefined for Division\")\n",
    "else:\n",
    "    print(\"Division :\",num1/num2)\n",
    "print(\"Conversion to string\",type(str(num1+num2)))"
   ]
  },
  {
   "cell_type": "code",
   "execution_count": null,
   "id": "6bdab6af-8b11-466c-8d8c-5ab93dd87061",
   "metadata": {},
   "outputs": [],
   "source": []
  }
 ],
 "metadata": {
  "kernelspec": {
   "display_name": "Python 3 (ipykernel)",
   "language": "python",
   "name": "python3"
  },
  "language_info": {
   "codemirror_mode": {
    "name": "ipython",
    "version": 3
   },
   "file_extension": ".py",
   "mimetype": "text/x-python",
   "name": "python",
   "nbconvert_exporter": "python",
   "pygments_lexer": "ipython3",
   "version": "3.12.4"
  }
 },
 "nbformat": 4,
 "nbformat_minor": 5
}
