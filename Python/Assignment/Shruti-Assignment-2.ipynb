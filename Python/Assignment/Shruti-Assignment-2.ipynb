{
 "cells": [
  {
   "cell_type": "markdown",
   "id": "a6d45169-5471-43ad-8441-949f3ae46acc",
   "metadata": {},
   "source": [
    "## Basic Slicing\n",
    "\n",
    "### Introduction to Slicing:"
   ]
  },
  {
   "cell_type": "code",
   "execution_count": 284,
   "id": "2cf87581-0a81-4a37-8f64-ea2876ccfdc4",
   "metadata": {},
   "outputs": [
    {
     "name": "stdout",
     "output_type": "stream",
     "text": [
      "['Hello,', 'World!']\n"
     ]
    }
   ],
   "source": [
    "#i) The entire string.\n",
    "\n",
    "s=\"Hello, World!\"\n",
    "print(s.split())"
   ]
  },
  {
   "cell_type": "code",
   "execution_count": 286,
   "id": "71a2b35a-3243-4676-80a5-a44d185f2966",
   "metadata": {},
   "outputs": [
    {
     "name": "stdout",
     "output_type": "stream",
     "text": [
      "Hello\n"
     ]
    }
   ],
   "source": [
    "#ii) The first 5 characters.\n",
    "\n",
    "print(s[0:5])"
   ]
  },
  {
   "cell_type": "code",
   "execution_count": 288,
   "id": "6e273136-2871-4204-b06e-34ea1b783cac",
   "metadata": {},
   "outputs": [
    {
     "data": {
      "text/plain": [
       "'orld!'"
      ]
     },
     "execution_count": 288,
     "metadata": {},
     "output_type": "execute_result"
    }
   ],
   "source": [
    "#iii) The last 5 characters.\n",
    "s[8:14]"
   ]
  },
  {
   "cell_type": "code",
   "execution_count": 86,
   "id": "7c5c5a40-bc4e-4f25-bd43-731af3b70fa5",
   "metadata": {},
   "outputs": [
    {
     "data": {
      "text/plain": [
       "'ello, World'"
      ]
     },
     "execution_count": 86,
     "metadata": {},
     "output_type": "execute_result"
    }
   ],
   "source": [
    "#iv)The string excludes the first and last characters.\n",
    "\n",
    "s[1:-1:1]"
   ]
  },
  {
   "cell_type": "code",
   "execution_count": 56,
   "id": "5ffe335d-0229-43c5-819e-fc49ff7de147",
   "metadata": {},
   "outputs": [
    {
     "data": {
      "text/plain": [
       "'el,Wrd'"
      ]
     },
     "execution_count": 56,
     "metadata": {},
     "output_type": "execute_result"
    }
   ],
   "source": [
    "#v) Every second character in the string.\n",
    "\n",
    "s[1:14:2]"
   ]
  },
  {
   "cell_type": "markdown",
   "id": "c109e036-6fc9-4180-a203-f35efaf57fd9",
   "metadata": {},
   "source": [
    "### Slicing with Negative Indicessed.\r"
   ]
  },
  {
   "cell_type": "code",
   "execution_count": 60,
   "id": "b11d3015-f1fd-41bd-9a70-59ab7f957a7c",
   "metadata": {},
   "outputs": [
    {
     "data": {
      "text/plain": [
       "'Hello, World!'"
      ]
     },
     "execution_count": 60,
     "metadata": {},
     "output_type": "execute_result"
    }
   ],
   "source": [
    "s"
   ]
  },
  {
   "cell_type": "code",
   "execution_count": 78,
   "id": "99bc349b-3fd0-4eb3-b1f0-15a41d01b7ce",
   "metadata": {},
   "outputs": [
    {
     "data": {
      "text/plain": [
       "'ld!'"
      ]
     },
     "execution_count": 78,
     "metadata": {},
     "output_type": "execute_result"
    }
   ],
   "source": [
    "#1) the last 3 character\n",
    "s[-3:]"
   ]
  },
  {
   "cell_type": "code",
   "execution_count": 88,
   "id": "d658af46-e2ff-424a-b96b-a8639f000672",
   "metadata": {},
   "outputs": [
    {
     "data": {
      "text/plain": [
       "'Hello, Worl'"
      ]
     },
     "execution_count": 88,
     "metadata": {},
     "output_type": "execute_result"
    }
   ],
   "source": [
    "#2)All characters except the last 2.\n",
    "s[:-2]"
   ]
  },
  {
   "cell_type": "code",
   "execution_count": 100,
   "id": "f35cfecd-efa0-4a1d-b461-ab16cded975d",
   "metadata": {},
   "outputs": [
    {
     "data": {
      "text/plain": [
       "'!dlroW ,olleH'"
      ]
     },
     "execution_count": 100,
     "metadata": {},
     "output_type": "execute_result"
    }
   ],
   "source": [
    "#3)The string reversed.\n",
    "\n",
    "s[::-1]"
   ]
  },
  {
   "cell_type": "markdown",
   "id": "a50d924f-4ea4-41ce-8d62-3cc80120703a",
   "metadata": {},
   "source": [
    "## Advanced Slicing\n",
    "### Slicing Substrings"
   ]
  },
  {
   "cell_type": "code",
   "execution_count": 122,
   "id": "5776f306-facf-4627-a83c-5038c15f7cc6",
   "metadata": {},
   "outputs": [
    {
     "name": "stdout",
     "output_type": "stream",
     "text": [
      "quick\n"
     ]
    }
   ],
   "source": [
    "# The word \"quick\".\n",
    "\n",
    "sen_string=\"The quick brown fox jumps over the lazy dog\"\n",
    "quick=sen_string[4:9]\n",
    "print(quick)"
   ]
  },
  {
   "cell_type": "code",
   "execution_count": 294,
   "id": "a5e4002e-4ede-4aed-a9e9-4896cfa5a66f",
   "metadata": {},
   "outputs": [
    {
     "name": "stdout",
     "output_type": "stream",
     "text": [
      "lazy\n"
     ]
    }
   ],
   "source": [
    "#The word \"lazy\"\n",
    "\n",
    "sen_string=\"The quick brown fox jumps over the lazy dog\"\n",
    "lazy=sen_string[35:39]\n",
    "print(lazy)"
   ]
  },
  {
   "cell_type": "code",
   "execution_count": 296,
   "id": "39eb6058-c3b7-4f17-87f9-815b6c1abcee",
   "metadata": {},
   "outputs": [
    {
     "name": "stdout",
     "output_type": "stream",
     "text": [
      "brown fox jump\n"
     ]
    }
   ],
   "source": [
    "#The words \"brown fox jumps\"\n",
    "x=sen_string[10:24]\n",
    "print(x)"
   ]
  },
  {
   "cell_type": "markdown",
   "id": "f282d515-927c-4c5c-9de6-f8478c0b786c",
   "metadata": {},
   "source": [
    "### Step Slicing:"
   ]
  },
  {
   "cell_type": "code",
   "execution_count": 144,
   "id": "1fc8e205-7eab-4cfc-a273-56e33190d7a1",
   "metadata": {},
   "outputs": [
    {
     "data": {
      "text/plain": [
       "'eukrnojporhlyo'"
      ]
     },
     "execution_count": 144,
     "metadata": {},
     "output_type": "execute_result"
    }
   ],
   "source": [
    "\n",
    "#i)Every third character\n",
    "sen_string[2::3]"
   ]
  },
  {
   "cell_type": "code",
   "execution_count": 146,
   "id": "c902371f-0edf-414b-9f0f-59ec7cc246e5",
   "metadata": {},
   "outputs": [
    {
     "data": {
      "text/plain": [
       "'hqcbwf m et zd'"
      ]
     },
     "execution_count": 146,
     "metadata": {},
     "output_type": "execute_result"
    }
   ],
   "source": [
    "#Every third character starting from the second character.\n",
    "sen_string[1::3]"
   ]
  },
  {
   "cell_type": "code",
   "execution_count": 154,
   "id": "a204d8c8-b974-4b8f-adf4-6a832fa45bd5",
   "metadata": {},
   "outputs": [
    {
     "data": {
      "text/plain": [
       "'o zletrv pu o wr cu h'"
      ]
     },
     "execution_count": 154,
     "metadata": {},
     "output_type": "execute_result"
    }
   ],
   "source": [
    "#The string reversed, stepping by 2.\n",
    "sen_string[-2::-2] "
   ]
  },
  {
   "cell_type": "markdown",
   "id": "be555c73-6a91-4b31-984d-68bfe1b3b343",
   "metadata": {},
   "source": [
    "##  Practical Application"
   ]
  },
  {
   "cell_type": "code",
   "execution_count": 157,
   "id": "3e45879b-831d-4a40-a76b-e3609d0ced8b",
   "metadata": {},
   "outputs": [],
   "source": [
    "data = \"2024-09-01,Sunny,25°C\""
   ]
  },
  {
   "cell_type": "code",
   "execution_count": 161,
   "id": "47141960-7129-4c08-a9cb-18a3e432048d",
   "metadata": {},
   "outputs": [
    {
     "data": {
      "text/plain": [
       "'2024-09-01'"
      ]
     },
     "execution_count": 161,
     "metadata": {},
     "output_type": "execute_result"
    }
   ],
   "source": [
    "#i)  The date\n",
    "data[0:10]"
   ]
  },
  {
   "cell_type": "code",
   "execution_count": 173,
   "id": "f051e033-19ce-4aa1-a64d-55d6192ef87c",
   "metadata": {},
   "outputs": [
    {
     "data": {
      "text/plain": [
       "'Sunny'"
      ]
     },
     "execution_count": 173,
     "metadata": {},
     "output_type": "execute_result"
    }
   ],
   "source": [
    "#ii)the weather\n",
    "data[11:16]"
   ]
  },
  {
   "cell_type": "code",
   "execution_count": 167,
   "id": "eacbed5f-9914-4780-976c-5013a88f850c",
   "metadata": {},
   "outputs": [
    {
     "data": {
      "text/plain": [
       "'25°C'"
      ]
     },
     "execution_count": 167,
     "metadata": {},
     "output_type": "execute_result"
    }
   ],
   "source": [
    "#iii) The temperature\n",
    "data[17:]"
   ]
  },
  {
   "cell_type": "markdown",
   "id": "3c086447-c4e7-404f-885e-974a9b4f7d60",
   "metadata": {},
   "source": [
    "#### Reformatting Strings:\n",
    " phone_number = \"(123) 456-7890\", reformat\r\n",
    "it to ‘123-456-7890’"
   ]
  },
  {
   "cell_type": "code",
   "execution_count": 300,
   "id": "af7d9c05-8eb0-4a7a-a642-c55d85233d19",
   "metadata": {},
   "outputs": [],
   "source": [
    "phone_number = \"(123) 456-7890\""
   ]
  },
  {
   "cell_type": "code",
   "execution_count": 322,
   "id": "05c23721-61c0-449a-8d64-fdcb3c0932c1",
   "metadata": {},
   "outputs": [],
   "source": [
    "phone_number1=phone_number.replace(\" \",' ')"
   ]
  },
  {
   "cell_type": "code",
   "execution_count": 324,
   "id": "4a29ebde-256e-4553-8431-eae0b2f16ea1",
   "metadata": {},
   "outputs": [
    {
     "data": {
      "text/plain": [
       "'(123) 456-7890'"
      ]
     },
     "execution_count": 324,
     "metadata": {},
     "output_type": "execute_result"
    }
   ],
   "source": [
    "phone_number1"
   ]
  },
  {
   "cell_type": "code",
   "execution_count": 330,
   "id": "b48f54ff-1e04-42cb-871e-65b5d77690d1",
   "metadata": {},
   "outputs": [
    {
     "data": {
      "text/plain": [
       "'123-456-7890'"
      ]
     },
     "execution_count": 330,
     "metadata": {},
     "output_type": "execute_result"
    }
   ],
   "source": [
    "phone_number1.replace(\")\",\"-\").replace(\"- \",\"-\").replace(\"(\",\"\")"
   ]
  },
  {
   "cell_type": "markdown",
   "id": "58b17dc3-1d64-4261-86a5-55917cadb51c",
   "metadata": {},
   "source": [
    "## Questions based on string methods\n",
    "### Upper and Lower Case Conversion:"
   ]
  },
  {
   "cell_type": "code",
   "execution_count": 181,
   "id": "1590c1dc-76ce-4dc7-bc94-fc18b17e8554",
   "metadata": {},
   "outputs": [],
   "source": [
    "\n",
    "s = \"Hello, World!\""
   ]
  },
  {
   "cell_type": "code",
   "execution_count": 183,
   "id": "2d5f88f5-c344-4603-95d9-b284204c0439",
   "metadata": {},
   "outputs": [
    {
     "data": {
      "text/plain": [
       "'HELLO, WORLD!'"
      ]
     },
     "execution_count": 183,
     "metadata": {},
     "output_type": "execute_result"
    }
   ],
   "source": [
    "#1)Convert the string to all uppercase letters.\n",
    "s.upper()"
   ]
  },
  {
   "cell_type": "code",
   "execution_count": 185,
   "id": "c3b67638-0f99-407e-872e-97d0ec1369d5",
   "metadata": {},
   "outputs": [
    {
     "data": {
      "text/plain": [
       "'hello, world!'"
      ]
     },
     "execution_count": 185,
     "metadata": {},
     "output_type": "execute_result"
    }
   ],
   "source": [
    "#2)Convert the string to all lowercase letters.\n",
    "s.lower()"
   ]
  },
  {
   "cell_type": "code",
   "execution_count": 187,
   "id": "73dd35ee-32e1-4a60-b660-b343657e6758",
   "metadata": {},
   "outputs": [
    {
     "data": {
      "text/plain": [
       "'Hello, World!'"
      ]
     },
     "execution_count": 187,
     "metadata": {},
     "output_type": "execute_result"
    }
   ],
   "source": [
    "#3)Convert the string to title case.\n",
    "s.title()"
   ]
  },
  {
   "cell_type": "code",
   "execution_count": 340,
   "id": "e18be394-dccb-40f9-8f8f-ecad31faf050",
   "metadata": {},
   "outputs": [
    {
     "data": {
      "text/plain": [
       "'Hello, world!'"
      ]
     },
     "execution_count": 340,
     "metadata": {},
     "output_type": "execute_result"
    }
   ],
   "source": [
    "s.capitalize()"
   ]
  },
  {
   "cell_type": "markdown",
   "id": "f1ca84de-405f-4193-9716-4918ec33a1d8",
   "metadata": {},
   "source": [
    "### Finding Substrings"
   ]
  },
  {
   "cell_type": "code",
   "execution_count": 195,
   "id": "73e9f148-50e5-43a6-9a20-4a7c49d45bb9",
   "metadata": {},
   "outputs": [
    {
     "data": {
      "text/plain": [
       "16"
      ]
     },
     "execution_count": 195,
     "metadata": {},
     "output_type": "execute_result"
    }
   ],
   "source": [
    "#1)Find the position of the substring \"fox\".\n",
    "s = \"The quick brown fox jumps over the lazy dog\"\n",
    "s.find(\"fox\")"
   ]
  },
  {
   "cell_type": "markdown",
   "id": "6af6a841-d1eb-4c60-b53b-a522a48bb82a",
   "metadata": {},
   "source": [
    "In above 16 is the idex of the fox in the given sentence."
   ]
  },
  {
   "cell_type": "code",
   "execution_count": 197,
   "id": "fe55a986-4267-4ccb-8fca-3db52c288b9b",
   "metadata": {},
   "outputs": [
    {
     "data": {
      "text/plain": [
       "-1"
      ]
     },
     "execution_count": 197,
     "metadata": {},
     "output_type": "execute_result"
    }
   ],
   "source": [
    "#2)Check if the substring \"cat\" is in the string\n",
    "s.find(\"cat\")"
   ]
  },
  {
   "cell_type": "markdown",
   "id": "6ae264b7-6e62-4009-a6b4-4da5d67843fb",
   "metadata": {},
   "source": [
    "Here the result is -1 which means word \"cat\" is not in the sentence "
   ]
  },
  {
   "cell_type": "markdown",
   "id": "78e9217a-292d-46e7-999c-7b64654d47a1",
   "metadata": {},
   "source": [
    "### Replacing Substrings:"
   ]
  },
  {
   "cell_type": "code",
   "execution_count": 347,
   "id": "63cbcc32-57c5-48b5-adf6-bdcda0deb373",
   "metadata": {},
   "outputs": [
    {
     "data": {
      "text/plain": [
       "'The quick brown cat jumps over the lazy dog'"
      ]
     },
     "execution_count": 347,
     "metadata": {},
     "output_type": "execute_result"
    }
   ],
   "source": [
    "#1)Replace \"fox\" with \"cat\".\n",
    "s = \"The quick brown fox jumps over the lazy dog\"\n",
    "s.replace(\"fox\",\"cat\")"
   ]
  },
  {
   "cell_type": "code",
   "execution_count": 201,
   "id": "81a658f3-0856-4360-816d-8011dab0e392",
   "metadata": {},
   "outputs": [
    {
     "data": {
      "text/plain": [
       "'The_quick_brown_fox_jumps_over_the_lazy_dog'"
      ]
     },
     "execution_count": 201,
     "metadata": {},
     "output_type": "execute_result"
    }
   ],
   "source": [
    "#2)Replace all spaces with underscores\n",
    "s.replace(\" \",\"_\")"
   ]
  },
  {
   "cell_type": "code",
   "execution_count": 355,
   "id": "f28d7f12-3a01-4ac0-a58d-4569b4ec369c",
   "metadata": {
    "scrolled": true
   },
   "outputs": [
    {
     "data": {
      "text/plain": [
       "'The, quick, brown, fox, jumps, over, the, lazy, dog'"
      ]
     },
     "execution_count": 355,
     "metadata": {},
     "output_type": "execute_result"
    }
   ],
   "source": [
    "#3)Split the string into a list of words\n",
    "s.replace(\" \",\", \")\n"
   ]
  },
  {
   "cell_type": "code",
   "execution_count": 360,
   "id": "98a223e1-e1bb-4753-bccf-f19e253603c2",
   "metadata": {},
   "outputs": [
    {
     "data": {
      "text/plain": [
       "'The o quick o brown o fox o jumps o over o the o lazy o dog'"
      ]
     },
     "execution_count": 360,
     "metadata": {},
     "output_type": "execute_result"
    }
   ],
   "source": [
    "#Split the string by the letter 'o'.\n",
    "l1=s.replace(\" \",\" o \")\n",
    "l1"
   ]
  },
  {
   "cell_type": "markdown",
   "id": "5adb1abe-5310-4665-8f4e-595feb627df1",
   "metadata": {},
   "source": [
    "## Joining Strings"
   ]
  },
  {
   "cell_type": "code",
   "execution_count": 217,
   "id": "e60696c6-0911-4370-80d2-61d609dedd5c",
   "metadata": {},
   "outputs": [],
   "source": [
    "\n",
    "words = [\"The\", \"quick\", \"brown\", \"fox\"]"
   ]
  },
  {
   "cell_type": "code",
   "execution_count": 362,
   "id": "0063793f-e72b-4e34-835c-06c0acc0d915",
   "metadata": {},
   "outputs": [
    {
     "name": "stdout",
     "output_type": "stream",
     "text": [
      "The joined output is:  The quick brown fox\n"
     ]
    }
   ],
   "source": [
    "#1)Join the words with spaces\n",
    "a=\" \"\n",
    "Join=a.join(words)\n",
    "print(\"The joined output is: \",Join)"
   ]
  },
  {
   "cell_type": "code",
   "execution_count": 364,
   "id": "34adf2a6-b105-409d-86a6-3ef7636b3cba",
   "metadata": {},
   "outputs": [
    {
     "name": "stdout",
     "output_type": "stream",
     "text": [
      "The joined output is : The-quick-brown-fox\n"
     ]
    }
   ],
   "source": [
    "#2)Join the words with hyphens\n",
    "a1=\"-\"\n",
    "Join1=a1.join(words)\n",
    "print(\"The joined output is :\",Join1)"
   ]
  },
  {
   "cell_type": "code",
   "execution_count": null,
   "id": "6bbd7927-05aa-476d-a83b-c518f8ca967d",
   "metadata": {},
   "outputs": [],
   "source": []
  }
 ],
 "metadata": {
  "kernelspec": {
   "display_name": "Python 3 (ipykernel)",
   "language": "python",
   "name": "python3"
  },
  "language_info": {
   "codemirror_mode": {
    "name": "ipython",
    "version": 3
   },
   "file_extension": ".py",
   "mimetype": "text/x-python",
   "name": "python",
   "nbconvert_exporter": "python",
   "pygments_lexer": "ipython3",
   "version": "3.12.4"
  }
 },
 "nbformat": 4,
 "nbformat_minor": 5
}
